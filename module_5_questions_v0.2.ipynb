{
 "cells": [
  {
   "cell_type": "markdown",
   "metadata": {},
   "source": [
    "# Jupyter Notebook introduction\n",
    "\n",
    "We'll start off with a very brief introduction on the basics of using Jupyter notebooks.\n",
    "\n",
    "### Notebook cells\n",
    "\n",
    "A notebook consists of a sequence of cells. A cell is a multi-line text input field, and its contents can be executed by typing `Shift-Enter`, or by clicking the `Run` button in the toolbar. What exactly this does depends on the type of cell. There are four types of cells: *code cells*, *markdown cells*, *raw cells* and *heading cells*. We will only focus on the first 2; code and markdown. Every cell starts off being a code cell, but its type can be changed by using a dropdown on the toolbar (which will be `Code`, initially).\n",
    "\n",
    "In a code cell you can write *Python* code. When you run that cell (click on it and press `Shift-Enter`) the code in the cell will run, and the output of the cell will be displayed beneath the cell. Lets try out a very simple code cell below"
   ]
  },
  {
   "cell_type": "code",
   "execution_count": 1,
   "metadata": {},
   "outputs": [
    {
     "name": "stdout",
     "output_type": "stream",
     "text": [
      "7\n"
     ]
    }
   ],
   "source": [
    "x = 5\n",
    "x = x + 2\n",
    "print(x)"
   ]
  },
  {
   "cell_type": "markdown",
   "metadata": {},
   "source": [
    "This produces the output you might expect, the exact the same result as executing that bit of *Python* code in a terminal. You can modify the contents of the code cell and run it again with `Shift-Enter` to see how the output changes.\n",
    "\n",
    "Global variables are shared between cells. This means we can still use variables or functions from the first cell in a second cell, like so"
   ]
  },
  {
   "cell_type": "code",
   "execution_count": 2,
   "metadata": {},
   "outputs": [
    {
     "name": "stdout",
     "output_type": "stream",
     "text": [
      "14\n"
     ]
    }
   ],
   "source": [
    "y = 2 * x\n",
    "print(y)"
   ]
  },
  {
   "cell_type": "markdown",
   "metadata": {},
   "source": [
    "Notebooks are expected to be run top to bottom, starting with the first cell and ending with the last. **Failing to run some cells or running cells out of order is likely to result in errors.** For example, if we were to run the second cell before the first has been run the first, we would get an error saying `x` is not defined\n",
    "\n",
    "### Markdown\n",
    "\n",
    "*Markdown* is a simple way to format text using some extra symbols like asterisks (`*`) and underscores (`_`). You can do a simple [10 minute tutorial](http://www.markdowntutorial.com) or reference the [CheatSheet](http://commonmark.org/help/) for the available commands.\n",
    "\n",
    "If you set a notebook cell as a *Markdown* cell, you can write *Markdown* directly in the cell. When you run this cell, the markdown will be formatted to the *rich text*. if you **double-click** the *rich text*, you can go back to editing the markdown code. All these assignment texts are *Markdown* cells."
   ]
  },
  {
   "cell_type": "markdown",
   "metadata": {},
   "source": [
    "# Test yourself\n",
    "\n",
    "On to the actual assignment. This notebook contains several questions that can help you verify if you understand the subjects of this week. For every reading in the assignment, there should be a couple of corresponding questions in this notebook. After each section, try and answer the questions here, before moving on to the next section.\n",
    "\n",
    "Each of the questions will hold one cell where you give your answer, and one testing cell that checks your answer. Make sure you use `Cell > Run All` to update your answer and check it with the testing cell. You do not need to make any changes in the testing cells, all solution cells are marked with a comment."
   ]
  },
  {
   "cell_type": "code",
   "execution_count": 1,
   "metadata": {},
   "outputs": [],
   "source": [
    "import pickle\n",
    "import hashlib"
   ]
  },
  {
   "cell_type": "markdown",
   "metadata": {},
   "source": [
    "# Efficiency\n",
    "\n",
    "Read the text on efficiency and then finish the following exercises.\n",
    "\n",
    "### Complex printing\n",
    "\n",
    "All the code fragments below have a variable `n`. Determine the big O complexity in terms of `n` for these fragments and save it as a *string* in the variable `solution`. The string should look **exactly** like either `\"O(1)\"`, `\"O(n)\"`, or `\"O(n^2)\"`.\n",
    "\n",
    "Hint: If you are not sure, you can run the code yourself and see what happens if you change the variable `n`."
   ]
  },
  {
   "cell_type": "code",
   "execution_count": 10,
   "metadata": {},
   "outputs": [
    {
     "name": "stdout",
     "output_type": "stream",
     "text": [
      "0\n",
      "1\n",
      "2\n",
      "3\n",
      "4\n",
      "5\n"
     ]
    }
   ],
   "source": [
    "n = 6\n",
    "\n",
    "for i in range(n):\n",
    "    print(i)\n",
    "    \n",
    "solution = \"O(n)\""
   ]
  },
  {
   "cell_type": "code",
   "execution_count": 11,
   "metadata": {},
   "outputs": [
    {
     "name": "stdout",
     "output_type": "stream",
     "text": [
      "Test passed!\n"
     ]
    }
   ],
   "source": [
    "hasher = hashlib.sha1()\n",
    "hasher.update(solution.encode(\"utf-8\"))\n",
    "assert hasher.digest() == b'\\xeb\\xc7\\\\\\xd7\\x1f\\xe8\\xec\\xc4]\\x16\\xe8\\xfb\\xe4\\xca`\\x8d\\x05\\xd1\\xef\\xe0', \"Test failed.\"; print(\"Test passed!\")"
   ]
  },
  {
   "cell_type": "code",
   "execution_count": 17,
   "metadata": {},
   "outputs": [
    {
     "name": "stdout",
     "output_type": "stream",
     "text": [
      "2\n",
      "3\n",
      "4\n",
      "5\n",
      "6\n",
      "7\n",
      "8\n",
      "9\n",
      "10\n",
      "11\n"
     ]
    }
   ],
   "source": [
    "n = 2 \n",
    "\n",
    "for i in range(10):\n",
    "    print(n + i)\n",
    "\n",
    "solution = \"O(1)\""
   ]
  },
  {
   "cell_type": "code",
   "execution_count": 18,
   "metadata": {},
   "outputs": [
    {
     "name": "stdout",
     "output_type": "stream",
     "text": [
      "Test passed!\n"
     ]
    }
   ],
   "source": [
    "hasher = hashlib.sha1()\n",
    "hasher.update(solution.encode(\"utf-8\") + b\"2\")\n",
    "assert hasher.digest() == b'W@y>\\xa7p\\xa2\\xc4\\x86\\x96\\xc4\\xe9[\\xa5^H\\xa6\\xa21|', \"Test failed.\"; print(\"Test passed!\")"
   ]
  },
  {
   "cell_type": "code",
   "execution_count": 19,
   "metadata": {},
   "outputs": [
    {
     "name": "stdout",
     "output_type": "stream",
     "text": [
      "0\t0\t0\t0\t0\t\n",
      "0\t1\t2\t3\t4\t\n",
      "0\t2\t4\t6\t8\t\n",
      "0\t3\t6\t9\t12\t\n",
      "0\t4\t8\t12\t16\t\n"
     ]
    }
   ],
   "source": [
    "n = 5\n",
    "\n",
    "for i in range(n):\n",
    "    for j in range(n):\n",
    "        print(str(i*j) + \"\\t\", end=\"\")\n",
    "    print()\n",
    "    \n",
    "solution = \"O(n^2)\""
   ]
  },
  {
   "cell_type": "code",
   "execution_count": 20,
   "metadata": {},
   "outputs": [
    {
     "name": "stdout",
     "output_type": "stream",
     "text": [
      "Test passed!\n"
     ]
    }
   ],
   "source": [
    "hasher = hashlib.sha1()\n",
    "hasher.update(solution.encode(\"utf-8\") + b\"3\")\n",
    "assert hasher.digest() == b'H\\xcd\\xa2]5;m\\x9bJ{\\xeb\\xd5Y\\xbe\\xf2}\\x1f\\x04\\x0b\\x8e', \"Test failed.\"; print(\"Test passed!\")"
   ]
  },
  {
   "cell_type": "code",
   "execution_count": 23,
   "metadata": {},
   "outputs": [
    {
     "name": "stdout",
     "output_type": "stream",
     "text": [
      "0\n",
      "1\n",
      "2\n",
      "3\n",
      "4\n",
      "5\n",
      "6\n",
      "7\n",
      "8\n",
      "9\n",
      "10\n",
      "11\n"
     ]
    }
   ],
   "source": [
    "n = 4\n",
    "\n",
    "for i in range(n*3):\n",
    "    print(i)\n",
    "    \n",
    "solution = \"O(n)\""
   ]
  },
  {
   "cell_type": "code",
   "execution_count": 24,
   "metadata": {},
   "outputs": [
    {
     "name": "stdout",
     "output_type": "stream",
     "text": [
      "Test passed!\n"
     ]
    }
   ],
   "source": [
    "hasher = hashlib.sha1()\n",
    "hasher.update(solution.encode(\"utf-8\") + b\"4\")\n",
    "assert hasher.digest() == b'8@\\xf2\\xa8c\\xf1\\xccE\\xbag\\x9b%\\x97r\\xfb+bJo\\x9b', \"Test failed.\"; print(\"Test passed!\")"
   ]
  },
  {
   "cell_type": "markdown",
   "metadata": {},
   "source": [
    "# Dictionaries\n",
    "\n",
    "Read the text on dictionaries and then finish the following exercises.\n",
    "\n",
    "### Codewords\n",
    "We want to send a secret message to our friend and we have come up with a set of codewords: \n",
    "- The word \"cheese\" means \"table\"\n",
    "- The word \"apple\" means \"on\"\n",
    "- The word \"steak\" means \"pen\"\n",
    "\n",
    "Such that \"The steak is apple the cheese\" translates to \"The pen is on the table\".\n",
    "\n",
    "Create a dictionary `codewords` that holds these codewords and their translations."
   ]
  },
  {
   "cell_type": "code",
   "execution_count": 6,
   "metadata": {},
   "outputs": [],
   "source": [
    "codewords = {'cheese': 'table', 'apple': 'on', 'steak': 'pen'}"
   ]
  },
  {
   "cell_type": "code",
   "execution_count": 7,
   "metadata": {},
   "outputs": [
    {
     "name": "stdout",
     "output_type": "stream",
     "text": [
      "Test passed!\n"
     ]
    }
   ],
   "source": [
    "assert codewords == pickle.loads(b'\\x80\\x03}q\\x00(X\\x06\\x00\\x00\\x00cheeseq\\x01X\\x05\\x00\\x00\\x00tableq\\x02X\\x05\\x00\\x00\\x00appleq\\x03X\\x02\\x00\\x00\\x00onq\\x04X\\x05\\x00\\x00\\x00steakq\\x05X\\x03\\x00\\x00\\x00penq\\x06u.'), \"Test failed.\"; print(\"Test passed!\")"
   ]
  },
  {
   "cell_type": "markdown",
   "metadata": {},
   "source": [
    "Lets say we need to know what the meaning of the codeword \"apple\" is. Get the value that belongs to \"apple\" from the dictionary and store it in the variable `translation`."
   ]
  },
  {
   "cell_type": "code",
   "execution_count": 9,
   "metadata": {},
   "outputs": [],
   "source": [
    "translation = codewords['apple']"
   ]
  },
  {
   "cell_type": "code",
   "execution_count": 10,
   "metadata": {},
   "outputs": [
    {
     "name": "stdout",
     "output_type": "stream",
     "text": [
      "Test passed!\n"
     ]
    }
   ],
   "source": [
    "assert translation == \"on\", \"Test failed.\"; print(\"Test passed!\")"
   ]
  },
  {
   "cell_type": "markdown",
   "metadata": {},
   "source": [
    "Someone has cracked our code and discovered that \"cheese\" means \"table\"! We need to change the meaning of \"cheese\" and add a new word so that we can still talk about tables secretly:\n",
    "- Change the meaning of \"cheese\" to \"pencil\"\n",
    "- Add a new word, \"tomato\", that means \"table\""
   ]
  },
  {
   "cell_type": "code",
   "execution_count": 11,
   "metadata": {},
   "outputs": [],
   "source": [
    "codewords[\"cheese\"] = \"pencil\"\n",
    "codewords['tomato'] = \"table\""
   ]
  },
  {
   "cell_type": "code",
   "execution_count": 12,
   "metadata": {},
   "outputs": [
    {
     "name": "stdout",
     "output_type": "stream",
     "text": [
      "Test passed!\n"
     ]
    }
   ],
   "source": [
    "assert codewords == pickle.loads(b'\\x80\\x03}q\\x00(X\\x06\\x00\\x00\\x00cheeseq\\x01X\\x06\\x00\\x00\\x00pencilq\\x02X\\x05\\x00\\x00\\x00steakq\\x03X\\x03\\x00\\x00\\x00penq\\x04X\\x05\\x00\\x00\\x00appleq\\x05X\\x02\\x00\\x00\\x00onq\\x06X\\x06\\x00\\x00\\x00tomatoq\\x07X\\x05\\x00\\x00\\x00tableq\\x08u.'), \"Test failed.\"; print(\"Test passed!\")"
   ]
  },
  {
   "cell_type": "markdown",
   "metadata": {},
   "source": [
    "Our friend sends us a message containing the word \"pizza\". We know he doesn't mean \"pizza\" here, and we have agreed that any word that is unusual in a sentence has the meaning \"car\".\n",
    "\n",
    "Can you simulate this with your dictionary? Save the result in the variable `translation`. HINT: use `get()`"
   ]
  },
  {
   "cell_type": "code",
   "execution_count": 15,
   "metadata": {},
   "outputs": [],
   "source": [
    "message = \"pizza\"\n",
    "#codewords [\"pizza\" = \"car\"]\n",
    "translation = codewords.get(\"pizza\", \"car\")"
   ]
  },
  {
   "cell_type": "code",
   "execution_count": 16,
   "metadata": {},
   "outputs": [
    {
     "name": "stdout",
     "output_type": "stream",
     "text": [
      "Test passed!\n"
     ]
    }
   ],
   "source": [
    "assert translation == \"car\", \"Test failed.\"; print(\"Test passed!\")"
   ]
  },
  {
   "cell_type": "markdown",
   "metadata": {},
   "source": [
    "Now that we've built the dictionary, we want to test if we can translate a coded sequence of words! Write the code that translates the given list and prints the decoded sentence word by word. Make sure that each line in the output looks as follows:\n",
    "\n",
    "`<codeword> -> <translation>`"
   ]
  },
  {
   "cell_type": "code",
   "execution_count": 45,
   "metadata": {},
   "outputs": [
    {
     "name": "stdout",
     "output_type": "stream",
     "text": [
      "car\n",
      "pencil\n",
      "pen\n",
      "no clue\n"
     ]
    }
   ],
   "source": [
    "codewords [\"pizza\"] = \"car\"\n",
    "codewords [\"pinecone\"] = \"no clue\"\n",
    "code_sequence = [\"pizza\", \"cheese\", \"steak\", \"pinecone\"]\n",
    "for translation in code_sequence:\n",
    "    print (codewords [translation])"
   ]
  },
  {
   "cell_type": "code",
   "execution_count": null,
   "metadata": {},
   "outputs": [],
   "source": [
    "# There is no automated check for this question\n",
    "# The result should look as follows:\n",
    "# pizza -> car\n",
    "# cheese -> pencil\n",
    "# steak -> pen\n",
    "# pinecone -> car"
   ]
  },
  {
   "cell_type": "markdown",
   "metadata": {},
   "source": [
    "We want to introduce a new friend to our secret code. Create some code that:\n",
    "- Neatly prints the amount of codewords in our dictionary\n",
    "- Prints every codeword and translation as per the instructions in the last exercise"
   ]
  },
  {
   "cell_type": "code",
   "execution_count": 48,
   "metadata": {},
   "outputs": [
    {
     "name": "stdout",
     "output_type": "stream",
     "text": [
      "cheese -->  pencil\n",
      "apple -->  on\n",
      "steak -->  pen\n",
      "tomato -->  table\n",
      "pizza -->  car\n",
      "pinecone -->  no clue\n"
     ]
    }
   ],
   "source": [
    "for translation in codewords:\n",
    "    print (translation, \"--> \", codewords[translation])"
   ]
  },
  {
   "cell_type": "code",
   "execution_count": null,
   "metadata": {},
   "outputs": [],
   "source": [
    "# There is no automated check for this question\n",
    "# The result should look as follows:\n",
    "# Amount of codewords: 4\n",
    "# cheese -> pencil\n",
    "# steak -> pen\n",
    "# apple -> on\n",
    "# tomato -> table"
   ]
  },
  {
   "cell_type": "markdown",
   "metadata": {},
   "source": [
    "# Tuples\n",
    "\n",
    "Read the text on tuples and then finish the following exercises.\n",
    "\n",
    "### Patient records\n",
    "You are building a patient management system for the OLVG. The system needs the following information about a patient before it is able to search for the patient's records:\n",
    "- First name\n",
    "- Last name\n",
    "- Date of birth\n",
    "\n",
    "Once this data is entered into the system, separate values are not allowed to be changed. Create a tuple `patient` that holds the patient data for Bart Bartman, who was born on 21/12/2012."
   ]
  },
  {
   "cell_type": "code",
   "execution_count": 15,
   "metadata": {},
   "outputs": [],
   "source": [
    "patient = (\"Bart\",\"Bartman\",\"21/12/2012\")"
   ]
  },
  {
   "cell_type": "code",
   "execution_count": 16,
   "metadata": {},
   "outputs": [
    {
     "name": "stdout",
     "output_type": "stream",
     "text": [
      "Test passed!\n"
     ]
    }
   ],
   "source": [
    "assert patient == pickle.loads(b'\\x80\\x03X\\x04\\x00\\x00\\x00Bartq\\x00X\\x07\\x00\\x00\\x00Bartmanq\\x01X\\n\\x00\\x00\\x0021/12/2012q\\x02\\x87q\\x03.'), \"Test failed.\"; print(\"Test passed!\")"
   ]
  },
  {
   "cell_type": "markdown",
   "metadata": {},
   "source": [
    "Now unpack the tuple into three variables: `first_name`, `last_name`, `birthday`. Try to do it all in one line!"
   ]
  },
  {
   "cell_type": "code",
   "execution_count": 24,
   "metadata": {},
   "outputs": [],
   "source": [
    "first_name, last_name, brithday = patient"
   ]
  },
  {
   "cell_type": "code",
   "execution_count": 25,
   "metadata": {},
   "outputs": [],
   "source": [
    "assert first_name == \"Bart\"\n",
    "assert last_name == \"Bartman\"\n",
    "assert birthday == \"21/12/2012\""
   ]
  },
  {
   "cell_type": "markdown",
   "metadata": {},
   "source": [
    "Given the three variables you have just made, pack a new tuple but now with the date of birth first, then the last name, and finally the first name. Save the result in `reverse_patient`. Again, try to do it all in one line."
   ]
  },
  {
   "cell_type": "code",
   "execution_count": 26,
   "metadata": {},
   "outputs": [],
   "source": [
    "reverse_patient =  birthday, last_name, first_name"
   ]
  },
  {
   "cell_type": "code",
   "execution_count": 27,
   "metadata": {},
   "outputs": [
    {
     "name": "stdout",
     "output_type": "stream",
     "text": [
      "Test passed!\n"
     ]
    }
   ],
   "source": [
    "assert reverse_patient == pickle.loads(b'\\x80\\x03X\\n\\x00\\x00\\x0021/12/2012q\\x00X\\x07\\x00\\x00\\x00Bartmanq\\x01X\\x04\\x00\\x00\\x00Bartq\\x02\\x87q\\x03.'), \"Test failed.\"; print(\"Test passed!\")"
   ]
  },
  {
   "cell_type": "markdown",
   "metadata": {},
   "source": [
    "We have created two lists for you. One list contains the information of several patients, the other list contains the patient records for those patients. Create a dictionary `hospital_data` where the key is the patient information, and the value is the corresponding patient record. If you are unsure what the lists look like, print them first."
   ]
  },
  {
   "cell_type": "code",
   "execution_count": 48,
   "metadata": {},
   "outputs": [
    {
     "name": "stdout",
     "output_type": "stream",
     "text": [
      "{('Bart', 'Bartman', '21/12/2012'): 'The patient records of Bart', ('Bob', 'Bobman', '13/2/2001'): 'The patient records of Bob', ('Klaas', 'Klaassen', '19/9/1999'): 'The patient records of Klaas'}\n"
     ]
    }
   ],
   "source": [
    "patient_data = pickle.loads(b'\\x80\\x03]q\\x00(X\\x04\\x00\\x00\\x00Bartq\\x01X\\x07\\x00\\x00\\x00Bartmanq\\x02X\\n\\x00\\x00\\x0021/12/2012q\\x03\\x87q\\x04X\\x03\\x00\\x00\\x00Bobq\\x05X\\x06\\x00\\x00\\x00Bobmanq\\x06X\\t\\x00\\x00\\x0013/2/2001q\\x07\\x87q\\x08X\\x05\\x00\\x00\\x00Klaasq\\tX\\x08\\x00\\x00\\x00Klaassenq\\nX\\t\\x00\\x00\\x0019/9/1999q\\x0b\\x87q\\x0ce.')\n",
    "patient_records = [\"The patient records of Bart\", \"The patient records of Bob\", \"The patient records of Klaas\"]\n",
    "#print(patient_data, patient_records)\n",
    "hospital_data = {patient_data[0]:patient_records[0] , patient_data[1]: patient_records[1], patient_data[2]: patient_records[2]}\n",
    "print (hospital_data)"
   ]
  },
  {
   "cell_type": "code",
   "execution_count": 38,
   "metadata": {},
   "outputs": [
    {
     "name": "stdout",
     "output_type": "stream",
     "text": [
      "Test passed!\n"
     ]
    }
   ],
   "source": [
    "assert hospital_data == pickle.loads(b'\\x80\\x03}q\\x00(X\\x04\\x00\\x00\\x00Bartq\\x01X\\x07\\x00\\x00\\x00Bartmanq\\x02X\\n\\x00\\x00\\x0021/12/2012q\\x03\\x87q\\x04X\\x1b\\x00\\x00\\x00The patient records of Bartq\\x05X\\x03\\x00\\x00\\x00Bobq\\x06X\\x06\\x00\\x00\\x00Bobmanq\\x07X\\t\\x00\\x00\\x0013/2/2001q\\x08\\x87q\\tX\\x1a\\x00\\x00\\x00The patient records of Bobq\\nX\\x05\\x00\\x00\\x00Klaasq\\x0bX\\x08\\x00\\x00\\x00Klaassenq\\x0cX\\t\\x00\\x00\\x0019/9/1999q\\r\\x87q\\x0eX\\x1c\\x00\\x00\\x00The patient records of Klaasq\\x0fu.'), \"Test failed.\"; print(\"Test passed!\")"
   ]
  },
  {
   "cell_type": "markdown",
   "metadata": {},
   "source": [
    "Now see if you can print the patient records of Bob Bobman who was born 13/2/2001."
   ]
  },
  {
   "cell_type": "code",
   "execution_count": 57,
   "metadata": {},
   "outputs": [
    {
     "name": "stdout",
     "output_type": "stream",
     "text": [
      "The patient records of Bob\n"
     ]
    }
   ],
   "source": [
    "print(hospital_data.get(tuple([\"Bob\",\"Bobman\",\"13/2/2001\"]),\"nothing\"))"
   ]
  },
  {
   "cell_type": "markdown",
   "metadata": {},
   "source": [
    "# Sets\n",
    "\n",
    "Read the text on sets and then finish the following exercises.\n",
    "\n",
    "### The numbers, what do they mean?\n",
    "Create two sets `firstSet` and `secondSet` with the numbers 23, 42, 65, 57, 78, 83, and 29, and 57, 83, 29, 67, 73, 43, and 48 respectively."
   ]
  },
  {
   "cell_type": "code",
   "execution_count": 2,
   "metadata": {},
   "outputs": [
    {
     "name": "stdout",
     "output_type": "stream",
     "text": [
      "{65, 42, 78, 83, 23, 57, 29} {67, 73, 43, 48, 83, 57, 29}\n"
     ]
    }
   ],
   "source": [
    "firstSet  = {23, 42, 65, 57, 78, 83, 29}\n",
    "secondSet = {57, 83, 29, 67, 73, 43, 48}\n",
    "print (firstSet, secondSet)"
   ]
  },
  {
   "cell_type": "code",
   "execution_count": 5,
   "metadata": {},
   "outputs": [
    {
     "name": "stdout",
     "output_type": "stream",
     "text": [
      "Test passed!\n",
      "Test passed!\n"
     ]
    }
   ],
   "source": [
    "assert firstSet == pickle.loads(b'\\x80\\x03cbuiltins\\nset\\nq\\x00]q\\x01(KAK*KNKSK\\x17K9K\\x1de\\x85q\\x02Rq\\x03.'), \"Test failed.\"; print(\"Test passed!\")\n",
    "assert secondSet == pickle.loads(b'\\x80\\x03cbuiltins\\nset\\nq\\x00]q\\x01(KCKIK+K0KSK9K\\x1de\\x85q\\x02Rq\\x03.'), \"Test failed.\"; print(\"Test passed!\")"
   ]
  },
  {
   "cell_type": "markdown",
   "metadata": {},
   "source": [
    "Get the intersection of the sets, and save the result in `thirdSet`. Create another set `fourthSet` that holds the difference between `firstSet` and `secondSet`."
   ]
  },
  {
   "cell_type": "code",
   "execution_count": 6,
   "metadata": {},
   "outputs": [],
   "source": [
    "thirdSet = firstSet.intersection(secondSet)\n",
    "fourthSet = firstSet.difference(secondSet)"
   ]
  },
  {
   "cell_type": "code",
   "execution_count": 7,
   "metadata": {},
   "outputs": [
    {
     "name": "stdout",
     "output_type": "stream",
     "text": [
      "Test passed!\n",
      "Test passed!\n"
     ]
    }
   ],
   "source": [
    "assert thirdSet == pickle.loads(b'\\x80\\x03cbuiltins\\nset\\nq\\x00]q\\x01(K9KSK\\x1de\\x85q\\x02Rq\\x03.'), \"Test failed.\"; print(\"Test passed!\")\n",
    "assert fourthSet == pickle.loads(b'\\x80\\x03cbuiltins\\nset\\nq\\x00]q\\x01(KAK*KNK\\x17e\\x85q\\x02Rq\\x03.'), \"Test failed.\"; print(\"Test passed!\")"
   ]
  },
  {
   "cell_type": "markdown",
   "metadata": {},
   "source": [
    "Add the number 67 to `thirdSet`."
   ]
  },
  {
   "cell_type": "code",
   "execution_count": 8,
   "metadata": {},
   "outputs": [],
   "source": [
    "thirdSet.add(67)"
   ]
  },
  {
   "cell_type": "code",
   "execution_count": 9,
   "metadata": {},
   "outputs": [
    {
     "name": "stdout",
     "output_type": "stream",
     "text": [
      "Test passed!\n"
     ]
    }
   ],
   "source": [
    "assert thirdSet == pickle.loads(b'\\x80\\x03cbuiltins\\nset\\nq\\x00]q\\x01(K9KCKSK\\x1de\\x85q\\x02Rq\\x03.'), \"Test failed.\"; print(\"Test passed!\")"
   ]
  },
  {
   "cell_type": "markdown",
   "metadata": {},
   "source": [
    "Determine if `thirdSet` is a subset of `firstSet` and store the resulting boolean in a variable `is3_sub1`. Do the same for `secondSet`, but store this result in `is3_sub2`."
   ]
  },
  {
   "cell_type": "code",
   "execution_count": 20,
   "metadata": {},
   "outputs": [
    {
     "name": "stdout",
     "output_type": "stream",
     "text": [
      "False True\n"
     ]
    }
   ],
   "source": [
    "is3_sub1 = thirdSet.issubset(firstSet)\n",
    "is3_sub2 = thirdSet.issubset(secondSet)\n",
    "print(is3_sub1,is3_sub2)"
   ]
  },
  {
   "cell_type": "code",
   "execution_count": 21,
   "metadata": {},
   "outputs": [
    {
     "name": "stdout",
     "output_type": "stream",
     "text": [
      "Test passed!\n",
      "Test passed!\n"
     ]
    }
   ],
   "source": [
    "assert not is3_sub1, \"Test failed.\"; print(\"Test passed!\")\n",
    "assert is3_sub2, \"Test failed.\"; print(\"Test passed!\")"
   ]
  },
  {
   "cell_type": "markdown",
   "metadata": {},
   "source": [
    "Finally, we have provided you with a list with double items `doubles`. Filter for unique items using a set and save the solution as a list in the variable `uniques`."
   ]
  },
  {
   "cell_type": "code",
   "execution_count": 28,
   "metadata": {},
   "outputs": [
    {
     "name": "stdout",
     "output_type": "stream",
     "text": [
      "['tennis', 'karate', 'soccer', 'rowing', 'judo', 'badminton']\n"
     ]
    }
   ],
   "source": [
    "doubles = [\"tennis\", \"badminton\", \"rowing\", \"soccer\", \"tennis\", \"judo\", \"judo\", \"karate\", \"soccer\"]\n",
    "uniques = list(set(doubles))\n",
    "print(uniques)"
   ]
  },
  {
   "cell_type": "code",
   "execution_count": 29,
   "metadata": {},
   "outputs": [
    {
     "name": "stdout",
     "output_type": "stream",
     "text": [
      "Test passed!\n",
      "Test passed!\n",
      "Test passed!\n"
     ]
    }
   ],
   "source": [
    "assert type(uniques) == list, \"Test failed.\"; print(\"Test passed!\")\n",
    "assert len(uniques) == 6, \"Test failed.\"; print(\"Test passed!\")\n",
    "for e in pickle.loads(b'\\x80\\x03]q\\x00(X\\x06\\x00\\x00\\x00karateq\\x01X\\x06\\x00\\x00\\x00rowingq\\x02X\\x06\\x00\\x00\\x00soccerq\\x03X\\t\\x00\\x00\\x00badmintonq\\x04X\\x04\\x00\\x00\\x00judoq\\x05X\\x06\\x00\\x00\\x00tennisq\\x06e.'):\n",
    "    assert e in uniques, \"Test failed.\"\n",
    "print(\"Test passed!\")"
   ]
  },
  {
   "cell_type": "markdown",
   "metadata": {},
   "source": [
    "# Slicing\n",
    "\n",
    "Read the text on list slicing and indexing and then finish the following exercises.\n",
    "\n",
    "Use list slicing to select from `source_list`:\n",
    "\n",
    "* everything from index 1 up to 4,\n",
    "* the first three indexes,\n",
    "* and finally everything from index 3 onward.\n"
   ]
  },
  {
   "cell_type": "code",
   "execution_count": 5,
   "metadata": {},
   "outputs": [
    {
     "name": "stdout",
     "output_type": "stream",
     "text": [
      "[5, 6, 91]\n"
     ]
    }
   ],
   "source": [
    "source_list = [1, 4, 2, 5, 6, 91]\n",
    "\n",
    "first_list = source_list[1:4]\n",
    "second_list = source_list[0:3]\n",
    "third_list = source_list[3::1]\n",
    "print (third_list)"
   ]
  },
  {
   "cell_type": "code",
   "execution_count": 6,
   "metadata": {},
   "outputs": [
    {
     "name": "stdout",
     "output_type": "stream",
     "text": [
      "Test passed!\n",
      "Test passed!\n",
      "Test passed!\n"
     ]
    }
   ],
   "source": [
    "assert first_list == [4, 2, 5], \"Test failed.\"; print(\"Test passed!\")\n",
    "assert second_list == [1, 4, 2], \"Test failed.\"; print(\"Test passed!\")\n",
    "assert third_list == [5, 6, 91], \"Test failed.\"; print(\"Test passed!\")"
   ]
  },
  {
   "cell_type": "markdown",
   "metadata": {},
   "source": [
    "Use list slicing to create a copy of the `source_list`."
   ]
  },
  {
   "cell_type": "code",
   "execution_count": 7,
   "metadata": {},
   "outputs": [],
   "source": [
    "copied_list = source_list[:]"
   ]
  },
  {
   "cell_type": "code",
   "execution_count": 8,
   "metadata": {},
   "outputs": [
    {
     "name": "stdout",
     "output_type": "stream",
     "text": [
      "Test passed!\n",
      "Test passed!\n"
     ]
    }
   ],
   "source": [
    "assert copied_list == source_list, \"Test failed.\"; print(\"Test passed!\")\n",
    "assert source_list is not copied_list, \"Test failed.\"; print(\"Test passed!\")"
   ]
  },
  {
   "cell_type": "markdown",
   "metadata": {},
   "source": [
    "Use list slicing to get from `source_list`:\n",
    "\n",
    "- every other element\n",
    "- every second element, but starting with the third element\n",
    "- and finally every second element starting from the end of the list backwards, but do not include the first two indexes of the list\n"
   ]
  },
  {
   "cell_type": "code",
   "execution_count": 27,
   "metadata": {},
   "outputs": [
    {
     "name": "stdout",
     "output_type": "stream",
     "text": [
      "[91, 5]\n",
      "[1, 4, 2, 5, 6, 91]\n"
     ]
    }
   ],
   "source": [
    "first_list = source_list[::2]\n",
    "second_list = source_list[1::2]\n",
    "third_list = source_list[-1:2:-2]\n",
    "print(third_list)\n",
    "print(source_list)"
   ]
  },
  {
   "cell_type": "code",
   "execution_count": 28,
   "metadata": {},
   "outputs": [
    {
     "name": "stdout",
     "output_type": "stream",
     "text": [
      "Test passed!\n",
      "Test passed!\n",
      "Test passed!\n"
     ]
    }
   ],
   "source": [
    "assert first_list == [1, 2, 6], \"Test failed.\"; print(\"Test passed!\")\n",
    "assert second_list == [4, 5, 91], \"Test failed.\"; print(\"Test passed!\")\n",
    "assert third_list == [91, 5], \"Test failed.\"; print(\"Test passed!\")"
   ]
  },
  {
   "cell_type": "markdown",
   "metadata": {},
   "source": [
    "# Applying Big O\n",
    "\n",
    "Read the text on applying Big O in your code and the text for the example on improving `count_occurrence()`, then finish the following exercises.\n",
    "\n",
    "### Sorting\n",
    "\n",
    "Consider the following pseudocode with a list of length `n`:\n",
    "\n",
    "```\n",
    "while list is not sorted:\n",
    "    for every element in the list:\n",
    "        if this element > element to the right:\n",
    "            swap element with element to the right\n",
    "```\n",
    "\n",
    "What is the Big O? Enter your solution as a string (`\"O(1)\"`, `\"O(n)\"`, or `\"O(n^2)\"`) in the variable `solution`."
   ]
  },
  {
   "cell_type": "code",
   "execution_count": 3,
   "metadata": {},
   "outputs": [],
   "source": [
    "solution = \"O(n^2)\""
   ]
  },
  {
   "cell_type": "code",
   "execution_count": 4,
   "metadata": {},
   "outputs": [
    {
     "name": "stdout",
     "output_type": "stream",
     "text": [
      "Test passed!\n"
     ]
    }
   ],
   "source": [
    "hasher = hashlib.sha1()\n",
    "hasher.update(solution.encode(\"utf-8\") + b\"5\")\n",
    "assert hasher.digest() == b'\\xbf=\\x86\\xab%\\x06\\x11\\x9e\\x12(6\\x0c\\xa1\\xc9\\x98\\xb8s\\xc8R\\x01', \"Test failed.\"; print(\"Test passed!\")"
   ]
  },
  {
   "cell_type": "code",
   "execution_count": null,
   "metadata": {},
   "outputs": [],
   "source": []
  }
 ],
 "metadata": {
  "kernelspec": {
   "display_name": "Python 3",
   "language": "python",
   "name": "python3"
  },
  "language_info": {
   "codemirror_mode": {
    "name": "ipython",
    "version": 3
   },
   "file_extension": ".py",
   "mimetype": "text/x-python",
   "name": "python",
   "nbconvert_exporter": "python",
   "pygments_lexer": "ipython3",
   "version": "3.7.8"
  }
 },
 "nbformat": 4,
 "nbformat_minor": 2
}
